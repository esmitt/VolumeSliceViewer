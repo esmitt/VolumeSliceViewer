{
 "cells": [
  {
   "cell_type": "code",
   "execution_count": 16,
   "metadata": {},
   "outputs": [
    {
     "name": "stdout",
     "output_type": "stream",
     "text": [
      "Path to the DICOM directory: C:\\Users\\eramirez\\Desktop\\CT\\LENS_P3\\INSP_CPAP\\DICOMDIR\n",
      "Patient: 12995477: CIVICO CASADO^PONCIANO\n",
      "    Study 7951: 20150716: Tc de torax\n"
     ]
    },
    {
     "data": {
      "application/vnd.jupyter.widget-view+json": {
       "model_id": "6debd0dcd73f444482320a89edfc75f7",
       "version_major": 2,
       "version_minor": 0
      },
      "text/plain": [
       "interactive(children=(RadioButtons(description='Slice plane selection:', options=('x-y', 'y-z', 'z-x'), style=…"
      ]
     },
     "metadata": {},
     "output_type": "display_data"
    },
    {
     "data": {
      "text/plain": [
       "<__main__.ImageSliceViewer3D at 0x2122573d908>"
      ]
     },
     "execution_count": 16,
     "metadata": {},
     "output_type": "execute_result"
    }
   ],
   "source": [
    "from os.path import dirname, join\n",
    "from pprint import pprint\n",
    "\n",
    "import numpy as np\n",
    "import ipywidgets as ipyw\n",
    "import matplotlib.pyplot as plt\n",
    "import pydicom\n",
    "from pydicom.data import get_testdata_files\n",
    "from pydicom.filereader import read_dicomdir\n",
    "\n",
    "class ImageSliceViewer3D:\n",
    "    \"\"\" \n",
    "    ImageSliceViewer3D is for viewing volumetric image slices in jupyter or\n",
    "    ipython notebooks. \n",
    "    \n",
    "    User can interactively change the slice plane selection for the image and \n",
    "    the slice plane being viewed. \n",
    "\n",
    "    Argumentss:\n",
    "    Volume = 3D input image\n",
    "    figsize = default(8,8), to set the size of the figure\n",
    "    cmap = default('gray'), string for the matplotlib colormap. You can find \n",
    "    more matplotlib colormaps on the following link:\n",
    "    https://matplotlib.org/users/colormaps.html\n",
    "    \n",
    "    \"\"\"\n",
    "    \n",
    "    def __init__(self, volume, figsize=(8,8), cmap='gray'):\n",
    "        self.volume = volume\n",
    "        self.figsize = figsize\n",
    "        self.cmap = cmap\n",
    "        self.v = [np.min(volume), np.max(volume)]\n",
    "        \n",
    "        # Call to select slice plane\n",
    "        ipyw.interact(self.view_selection, view=ipyw.RadioButtons(\n",
    "            options=['x-y','y-z', 'z-x'], value='x-y', \n",
    "            description='Slice plane selection:', disabled=False,\n",
    "            style={'description_width': 'initial'}))\n",
    "    \n",
    "    def view_selection(self, view):\n",
    "        # Transpose the volume to orient according to the slice plane selection\n",
    "        orient = {\"y-z\":[1,2,0], \"z-x\":[2,0,1], \"x-y\": [0,1,2]}\n",
    "        self.vol = np.transpose(self.volume, orient[view])\n",
    "        maxZ = self.vol.shape[2] - 1\n",
    "        \n",
    "        # Call to view a slice within the selected slice plane\n",
    "        ipyw.interact(self.plot_slice, \n",
    "            z=ipyw.IntSlider(min=0, max=maxZ, step=1, continuous_update=False, \n",
    "            description='Image Slice:'))\n",
    "        \n",
    "    def plot_slice(self, z):\n",
    "        # Plot slice for the given plane and slice\n",
    "        self.fig = plt.figure(figsize=self.figsize)\n",
    "        plt.imshow(self.vol[:,:,z], cmap=plt.get_cmap(self.cmap), \n",
    "            vmin=self.v[0], vmax=self.v[1])\n",
    "\n",
    "        \n",
    "# fetch the path to the test data\n",
    "filepath = 'C:\\\\Users\\\\eramirez\\\\Desktop\\\\CT\\\\LENS_P3\\\\INSP_CPAP\\\\DICOMDIR'\n",
    "print('Path to the DICOM directory: {}'.format(filepath))\n",
    "\n",
    "# load the data\n",
    "dicom_dir = read_dicomdir(filepath)\n",
    "base_dir = dirname(filepath)\n",
    "\n",
    "patient_record = dicom_dir.patient_records[0] #select one patient\n",
    "\n",
    "if (hasattr(patient_record, 'PatientID') and\n",
    "            hasattr(patient_record, 'PatientName')):\n",
    "        print(\"Patient: {}: {}\".format(patient_record.PatientID,\n",
    "                                       patient_record.PatientName))\n",
    "study = patient_record.children[0]\n",
    "#print(study)\n",
    "print(\" \" * 4 + \"Study {}: {}: {}\".format(study.StudyID,\n",
    "                                                  study.StudyDate,\n",
    "                                                  study.StudyDescription))\n",
    "series = study.children[0]\n",
    "image_records = series.children\n",
    "\n",
    "image_filenames = [join(base_dir, *image_rec.ReferencedFileID)\n",
    "                               for image_rec in image_records]\n",
    "\n",
    "#get the pixel array\n",
    "datasets = [pydicom.dcmread(image_filename).pixel_array\n",
    "                        for image_filename in image_filenames]\n",
    "#convert to numpy array\n",
    "npa = np.array(datasets)\n",
    "ImageSliceViewer3D(npa)\n"
   ]
  },
  {
   "cell_type": "code",
   "execution_count": null,
   "metadata": {},
   "outputs": [],
   "source": []
  }
 ],
 "metadata": {
  "kernelspec": {
   "display_name": "Python 3",
   "language": "python",
   "name": "python3"
  },
  "language_info": {
   "codemirror_mode": {
    "name": "ipython",
    "version": 3
   },
   "file_extension": ".py",
   "mimetype": "text/x-python",
   "name": "python",
   "nbconvert_exporter": "python",
   "pygments_lexer": "ipython3",
   "version": "3.7.0"
  }
 },
 "nbformat": 4,
 "nbformat_minor": 2
}
