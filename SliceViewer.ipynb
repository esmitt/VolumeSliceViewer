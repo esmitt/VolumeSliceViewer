{
 "cells": [
  {
   "cell_type": "code",
   "execution_count": 1,
   "metadata": {},
   "outputs": [],
   "source": [
    "from os.path import dirname, join\n",
    "from pprint import pprint\n",
    "\n",
    "import numpy as np\n",
    "import ipywidgets as ipyw\n",
    "import matplotlib.pyplot as plt\n",
    "import pydicom\n",
    "from pydicom.data import get_testdata_files\n",
    "from pydicom.filereader import read_dicomdir"
   ]
  },
  {
   "cell_type": "code",
   "execution_count": 4,
   "metadata": {},
   "outputs": [],
   "source": [
    "class ImageSliceViewer3D:\n",
    "    \"\"\" \n",
    "    ImageSliceViewer3D is for viewing volumetric image slices in jupyter or\n",
    "    ipython notebooks. \n",
    "    \n",
    "    User can interactively change the slice plane selection for the image and \n",
    "    the slice plane being viewed. \n",
    "\n",
    "    Argumentss:\n",
    "    Volume = 3D input image\n",
    "    figsize = default(8,8), to set the size of the figure\n",
    "    cmap = default('gray'), string for the matplotlib colormap. You can find \n",
    "    more matplotlib colormaps on the following link:\n",
    "    https://matplotlib.org/users/colormaps.html\n",
    "    \n",
    "    \"\"\"\n",
    "    \n",
    "    def __init__(self, volume, figsize=(100,100), cmap='gray'):\n",
    "        self.volume = volume\n",
    "        self.figsize = figsize\n",
    "        self.cmap = cmap\n",
    "        self.v = [np.min(volume), np.max(volume)]\n",
    "        \n",
    "        # Call to select slice plane\n",
    "        ipyw.interact(self.views)\n",
    "    \n",
    "    def views(self):\n",
    "        self.vol1 = np.transpose(self.volume, [1,2,0])\n",
    "        self.vol2 = np.rot90(np.transpose(self.volume, [2,0,1]), 3) #rotate 270 degrees\n",
    "        self.vol3 = np.transpose(self.volume, [0,1,2])\n",
    "        maxZ1 = self.vol1.shape[2] - 1\n",
    "        maxZ2 = self.vol2.shape[2] - 1\n",
    "        maxZ3 = self.vol3.shape[2] - 1\n",
    "        ipyw.interact(self.plot_slice, \n",
    "            z1=ipyw.IntSlider(min=0, max=maxZ1, step=1, continuous_update=False, \n",
    "            description='Axial:'), \n",
    "            z2=ipyw.IntSlider(min=0, max=maxZ2, step=1, continuous_update=False, \n",
    "            description='Coronal:'),\n",
    "            z3=ipyw.IntSlider(min=0, max=maxZ3, step=1, continuous_update=False, \n",
    "            description='Sagittal:'))\n",
    "\n",
    "    def plot_slice(self, z1, z2, z3):\n",
    "        # Plot slice for the given plane and slice\n",
    "        f,ax = plt.subplots(1,3, figsize=self.figsize)\n",
    "        #print(self.figsize)\n",
    "        #self.fig = plt.figure(figsize=self.figsize)\n",
    "        #f(figsize = self.figsize)\n",
    "        ax[0].imshow(self.vol1[:,:,z1], cmap=plt.get_cmap(self.cmap), \n",
    "            vmin=self.v[0], vmax=self.v[1])\n",
    "        ax[1].imshow(self.vol2[:,:,z2], cmap=plt.get_cmap(self.cmap), \n",
    "            vmin=self.v[0], vmax=self.v[1])\n",
    "        ax[2].imshow(self.vol3[:,:,z3], cmap=plt.get_cmap(self.cmap), \n",
    "            vmin=self.v[0], vmax=self.v[1])\n",
    "        plt.show()"
   ]
  },
  {
   "cell_type": "code",
   "execution_count": 5,
   "metadata": {},
   "outputs": [
    {
     "name": "stdout",
     "output_type": "stream",
     "text": [
      "Path to the DICOM directory: C:\\Users\\eramirez\\Desktop\\CT\\LENS_P3\\INSP_CPAP\\DICOMDIR\n",
      "Patient: 12995477: CIVICO CASADO^PONCIANO\n",
      "    Study 7951: 20150716: Tc de torax\n"
     ]
    },
    {
     "data": {
      "application/vnd.jupyter.widget-view+json": {
       "model_id": "9eec1ef1cbb84776846002a9d1a9dba2",
       "version_major": 2,
       "version_minor": 0
      },
      "text/plain": [
       "interactive(children=(Output(),), _dom_classes=('widget-interact',))"
      ]
     },
     "metadata": {},
     "output_type": "display_data"
    },
    {
     "data": {
      "text/plain": [
       "<__main__.ImageSliceViewer3D at 0x2701b4db1d0>"
      ]
     },
     "execution_count": 5,
     "metadata": {},
     "output_type": "execute_result"
    }
   ],
   "source": [
    "# fetch the path to the test data\n",
    "filepath = 'C:\\\\Users\\\\eramirez\\\\Desktop\\\\CT\\\\LENS_P3\\\\INSP_CPAP\\\\DICOMDIR'\n",
    "print('Path to the DICOM directory: {}'.format(filepath))\n",
    "\n",
    "# load the data\n",
    "dicom_dir = read_dicomdir(filepath)\n",
    "base_dir = dirname(filepath)\n",
    "\n",
    "patient_record = dicom_dir.patient_records[0] #select one patient\n",
    "\n",
    "if (hasattr(patient_record, 'PatientID') and\n",
    "            hasattr(patient_record, 'PatientName')):\n",
    "        print(\"Patient: {}: {}\".format(patient_record.PatientID,\n",
    "                                       patient_record.PatientName))\n",
    "study = patient_record.children[0]\n",
    "#print(study)\n",
    "print(\" \" * 4 + \"Study {}: {}: {}\".format(study.StudyID,\n",
    "                                                  study.StudyDate,\n",
    "                                                  study.StudyDescription))\n",
    "series = study.children[0]\n",
    "image_records = series.children\n",
    "\n",
    "image_filenames = [join(base_dir, *image_rec.ReferencedFileID)\n",
    "                               for image_rec in image_records]\n",
    "\n",
    "#get the pixel array\n",
    "datasets = [pydicom.dcmread(image_filename).pixel_array\n",
    "                        for image_filename in image_filenames]\n",
    "\n",
    "#convert to numpy array\n",
    "npa = np.array(datasets)\n",
    "ImageSliceViewer3D(npa)\n",
    "        "
   ]
  },
  {
   "cell_type": "code",
   "execution_count": null,
   "metadata": {},
   "outputs": [],
   "source": []
  }
 ],
 "metadata": {
  "kernelspec": {
   "display_name": "Python 3",
   "language": "python",
   "name": "python3"
  },
  "language_info": {
   "codemirror_mode": {
    "name": "ipython",
    "version": 3
   },
   "file_extension": ".py",
   "mimetype": "text/x-python",
   "name": "python",
   "nbconvert_exporter": "python",
   "pygments_lexer": "ipython3",
   "version": "3.7.0"
  }
 },
 "nbformat": 4,
 "nbformat_minor": 2
}
